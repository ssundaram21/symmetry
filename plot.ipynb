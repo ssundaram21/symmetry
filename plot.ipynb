{
 "cells": [
  {
   "cell_type": "code",
   "execution_count": 49,
   "metadata": {},
   "outputs": [],
   "source": [
    "NET = 'dilation'"
   ]
  },
  {
   "cell_type": "code",
   "execution_count": 50,
   "metadata": {},
   "outputs": [],
   "source": [
    "import tensorflow as tf\n",
    "import datasets\n",
    "import pickle\n",
    "import os\n",
    "import copy\n",
    "import numpy as np\n",
    "import matplotlib.pyplot as plt\n",
    "from matplotlib.font_manager import FontProperties\n",
    "\n",
    "if NET == 'dilation':\n",
    "    import experiments.dilation as experiments\n",
    "elif NET == 'lstm':\n",
    "    import experiments.lstm as experiments\n",
    "elif NET == 'coloring':\n",
    "    import experiments.coloring as experiments\n",
    "elif NET == 'crossing':\n",
    "    import experiments.crossing as experiments\n",
    "elif NET == 'unet':\n",
    "    import experiments.unet as experiments\n",
    "elif NET == 'multi_lstm':\n",
    "    import experiments.multi_lstm as experiments\n",
    "elif NET == 'FF':\n",
    "    import experiments.FF as experiments"
   ]
  },
  {
   "cell_type": "code",
   "execution_count": 51,
   "metadata": {},
   "outputs": [
    {
     "name": "stdout",
     "output_type": "stream",
     "text": [
      "4861\n"
     ]
    },
    {
     "data": {
      "text/plain": [
       "6318"
      ]
     },
     "execution_count": 51,
     "metadata": {},
     "output_type": "execute_result"
    }
   ],
   "source": [
    "output_path = '/om/user/xboix/share/insideness/' + NET + '/'\n",
    "run_opt = experiments.get_experiments(output_path)[1:]\n",
    "len(run_opt)"
   ]
  },
  {
   "cell_type": "code",
   "execution_count": 52,
   "metadata": {},
   "outputs": [],
   "source": [
    "results_data = []\n",
    "for opt in run_opt:\n",
    "    data_point = {}\n",
    "    data_point[\"C\"] = 0 #opt.hyper.complex_crossing\n",
    "    data_point[\"alpha\"] =  opt.hyper.alpha\n",
    "    data_point[\"init_factor\"] = opt.hyper.init_factor\n",
    "    data_point[\"learning_rate\"] = opt.hyper.learning_rate\n",
    "    data_point[\"batch_size\"] = opt.hyper.batch_size\n",
    "    \n",
    "    if NET == 'dilation':\n",
    "        data_point[\"num_layer\"] = opt.dnn.num_layers\n",
    "        data_point[\"complex_dilation\"] = opt.dnn.complex_dilation\n",
    "    \n",
    "    data_point[\"dataset_complexity\"] = opt.dataset.complexity\n",
    "    data_point[\"dataset_strict_complexity\"] = opt.dataset.complexity_strict\n",
    "    \n",
    "    if not os.path.isfile(opt.log_dir_base + opt.name + '/results/intra_dataset_accuracy.pkl'):\n",
    "        data_point[\"results\"] = \"empty\"\n",
    "       \n",
    "    else:\n",
    "        with open(opt.log_dir_base + opt.name + '/results/intra_dataset_accuracy.pkl', 'rb') as f:\n",
    "            data_point[\"results\"] = pickle.load(f)\n",
    "            \n",
    "    results_data.append(copy.deepcopy(data_point))\n"
   ]
  },
  {
   "cell_type": "code",
   "execution_count": 53,
   "metadata": {},
   "outputs": [
    {
     "name": "stdout",
     "output_type": "stream",
     "text": [
      "[[ 703. 1909. 2539. 3691. 4645. 5329.]\n",
      " [  55. 1045. 2233. 3205. 4159.    0.]]\n"
     ]
    }
   ],
   "source": [
    "NUM_COMPLEXITIES = 6 \n",
    "\n",
    "max_val_acc = -np.ones([2, NUM_COMPLEXITIES])\n",
    "max_idx = np.zeros([2, NUM_COMPLEXITIES])\n",
    "missing = np.zeros([2, NUM_COMPLEXITIES])\n",
    "\n",
    "for point_idx, data_point in enumerate(results_data):\n",
    "\n",
    "    point_complextity = data_point[\"dataset_complexity\"]\n",
    "    idx_strict = 1-int(data_point[\"dataset_strict_complexity\"])\n",
    "    \n",
    "    #if (not (\"val\" in data_point[\"results\"])):\n",
    "    #    print(point_idx)\n",
    "    \n",
    "    if not (data_point[\"results\"] == \"empty\") and (\"val\" in data_point[\"results\"]): \n",
    "        \n",
    "            if max_val_acc[idx_strict, point_complextity] < data_point[\"results\"][\"valloose\"]:\n",
    "                max_idx[idx_strict, point_complextity] = point_idx\n",
    "                max_val_acc[idx_strict, point_complextity] = data_point[\"results\"][\"valloose\"]\n",
    "    \n",
    "    else:\n",
    "        missing[idx_strict, point_complextity] += 1\n",
    "        \n",
    "print(max_idx)\n",
    "\n",
    "max_train = np.zeros([2, NUM_COMPLEXITIES])\n",
    "max_test = np.zeros([2, NUM_COMPLEXITIES])\n",
    "max_train_loose = np.zeros([2, NUM_COMPLEXITIES])\n",
    "max_test_loose = np.zeros([2, NUM_COMPLEXITIES])\n",
    "\n",
    "C = np.zeros([2, NUM_COMPLEXITIES])\n",
    "alpha =  np.zeros([2, NUM_COMPLEXITIES])\n",
    "init_factor = np.zeros([2, NUM_COMPLEXITIES])\n",
    "learning_rate = np.zeros([2, NUM_COMPLEXITIES])\n",
    "batch_size = np.zeros([2, NUM_COMPLEXITIES])\n",
    "num_layer = np.zeros([2, NUM_COMPLEXITIES])\n",
    "complex_dilation = np.zeros([2, NUM_COMPLEXITIES])\n",
    "for idx_strict, dataset_strict_complexity  in enumerate([True, False]):\n",
    "    for dataset_complexity in range(NUM_COMPLEXITIES):\n",
    "        max_train[idx_strict, dataset_complexity] = \\\n",
    "            results_data[int(max_idx[idx_strict,dataset_complexity])][\"results\"][\"train\"]\n",
    "        max_test[idx_strict, dataset_complexity] = \\\n",
    "            results_data[int(max_idx[idx_strict,dataset_complexity])][\"results\"][\"test\"]\n",
    "        max_train_loose[idx_strict, dataset_complexity] = \\\n",
    "            results_data[int(max_idx[idx_strict,dataset_complexity])][\"results\"][\"trainloose\"]\n",
    "        max_test_loose[idx_strict, dataset_complexity] = \\\n",
    "            results_data[int(max_idx[idx_strict,dataset_complexity])][\"results\"][\"testloose\"]\n",
    "        \n",
    "        C[idx_strict, dataset_complexity] = \\\n",
    "            results_data[int(max_idx[idx_strict,dataset_complexity])][\"C\"]\n",
    "        alpha[idx_strict, dataset_complexity] = \\\n",
    "            results_data[int(max_idx[idx_strict,dataset_complexity])][\"alpha\"]\n",
    "        init_factor[idx_strict, dataset_complexity] = \\\n",
    "            results_data[int(max_idx[idx_strict,dataset_complexity])][\"init_factor\"]\n",
    "        learning_rate[idx_strict, dataset_complexity] = \\\n",
    "            results_data[int(max_idx[idx_strict,dataset_complexity])][\"learning_rate\"]\n",
    "        batch_size[idx_strict, dataset_complexity] = \\\n",
    "            results_data[int(max_idx[idx_strict,dataset_complexity])][\"batch_size\"]\n",
    "        \n",
    "        if NET == 'dilation':\n",
    "            num_layer[idx_strict, dataset_complexity] = \\\n",
    "                results_data[int(max_idx[idx_strict,dataset_complexity])][\"num_layer\"]\n",
    "            complex_dilation[idx_strict, dataset_complexity] = \\\n",
    "                results_data[int(max_idx[idx_strict,dataset_complexity])][\"complex_dilation\"]\n",
    "\n",
    "        "
   ]
  },
  {
   "cell_type": "code",
   "execution_count": 54,
   "metadata": {
    "scrolled": false
   },
   "outputs": [
    {
     "name": "stdout",
     "output_type": "stream",
     "text": [
      "[100.         100.          99.96421354  99.9705288   99.80422701\n",
      "  99.98421186]\n",
      "[99.98000168 99.9410576  99.95053048 99.84843382 99.27479791 99.28742843]\n",
      "[99.99894746 99.98736948 99.99789491 99.9926322  99.90211351  0.        ]\n",
      "[100.          99.93053217  99.96947625  99.9410576   99.85580162\n",
      "   0.        ]\n",
      "[100.         100.          99.99997857  99.99998398  99.99987511\n",
      "  99.99998772]\n",
      "[99.99989197 99.99996615 99.99993829 99.99984729 99.99866073 99.99882813]\n",
      "[99.99999947 99.99999172 99.99999887 99.99999562 99.99992896 50.        ]\n",
      "[100.          99.9999411   99.9999818   99.99995719  99.99983416\n",
      "  50.        ]\n",
      "[ 18.  18.  18.  18.  18. 840.]\n",
      "[18. 18. 21. 18. 18.  0.]\n"
     ]
    },
    {
     "data": {
      "image/png": "[encoded data removed]",
      "text/plain": [
       "<Figure size 432x288 with 1 Axes>"
      ]
     },
     "metadata": {},
     "output_type": "display_data"
    },
    {
     "data": {
      "image/png": "[encoded data removed]",
      "text/plain": [
       "<Figure size 432x288 with 1 Axes>"
      ]
     },
     "metadata": {},
     "output_type": "display_data"
    },
    {
     "data": {
      "image/png": "[encoded data removed]",
      "text/plain": [
       "<Figure size 432x288 with 1 Axes>"
      ]
     },
     "metadata": {},
     "output_type": "display_data"
    },
    {
     "data": {
      "image/png": "[encoded data removed]",
      "text/plain": [
       "<Figure size 432x288 with 1 Axes>"
      ]
     },
     "metadata": {},
     "output_type": "display_data"
    },
    {
     "data": {
      "image/png": "[encoded data removed]",
      "text/plain": [
       "<Figure size 432x288 with 1 Axes>"
      ]
     },
     "metadata": {},
     "output_type": "display_data"
    },
    {
     "data": {
      "image/png": "[encoded data removed]",
      "text/plain": [
       "<Figure size 432x288 with 1 Axes>"
      ]
     },
     "metadata": {},
     "output_type": "display_data"
    }
   ],
   "source": [
    "def plot_results_train_test(train, title, fig, name):\n",
    "\n",
    "    x = np.linspace(1,5, NUM_COMPLEXITIES)\n",
    "    xlabels = ['easy','med-easy','medium','med-hard','hard', 'spiral' ]\n",
    "    ytext ='accuracy (%)'\n",
    "\n",
    "    plt.figure(fig)\n",
    "    print(train)\n",
    "    plt.plot(x, train, label=name)\n",
    "    plt.ylabel(ytext)\n",
    "    plt.xticks(x, xlabels)\n",
    "    leg = plt.legend(loc='upper right', ncol=1,  fancybox=True)\n",
    "\n",
    "plot_results_train_test(100*max_train[0,:], \"Exclusive Complexity\", 1, 'train')\n",
    "plot_results_train_test(100*max_test[0,:], \"Exclusive Complexity\", 1, 'test')\n",
    "\n",
    "plot_results_train_test(100*max_train[1,:], \"Mixed Complexity\", 2, 'train')\n",
    "plot_results_train_test(100*max_test[1,:], \"Mixed Complexity\", 2, 'test')\n",
    "\n",
    "plot_results_train_test(100*max_train_loose[0,:], \"Loose Acc - Exclusive Complexity\", 3, 'train')\n",
    "plot_results_train_test(100*max_test_loose[0,:], \"Loose Acc - Exclusive Complexity\", 3, 'test')\n",
    "\n",
    "plot_results_train_test(100*max_train_loose[1,:], \"Loose Acc - Mixed Complexity\", 4, 'train')\n",
    "plot_results_train_test(100*max_test_loose[1,:], \"Loose Acc - Mixed Complexity\", 4, 'test')    \n",
    "\n",
    "plot_results_train_test(missing[0,:], \"Exclusive Complexity\", 5, 'missing')\n",
    "plot_results_train_test(missing[1,:], \"Mixed Complexity\", 6, 'missing')\n"
   ]
  },
  {
   "cell_type": "code",
   "execution_count": null,
   "metadata": {
    "scrolled": false
   },
   "outputs": [],
   "source": [
    "def plot_results(data, title, fig):\n",
    "\n",
    "    x = np.linspace(1,5, 5)\n",
    "    xlabels = ['easy','med-easy','medium','med-hard','hard' ]\n",
    "    ytext ='accuracy (%)'\n",
    "\n",
    "    plt.figure(fig)\n",
    "    plt.plot(x, data, label=\"train\")\n",
    "    plt.title(title)\n",
    "    plt.ylabel(ytext)\n",
    "    plt.xticks(x, xlabels)\n",
    "    leg = plt.legend(loc='upper right', ncol=1,  fancybox=True)\n",
    "\n",
    "plot_results(C[0,:], \"C - Exclusive Complexity\", 1)\n",
    "plot_results(C[1,:], \"C - Mixed Complexity\", 2)\n",
    "plot_results(alpha[0,:], \"alpha - Exclusive Complexity\", 3)\n",
    "plot_results(alpha[1,:], \"alpha - Mixed Complexity\", 4)    \n",
    "plot_results(init_factor[0,:], \"init_factor - Exclusive Complexity\", 5)\n",
    "plot_results(init_factor[1,:], \"init_factor - Mixed Complexity\", 6)   \n",
    "plot_results(learning_rate[0,:], \"learning_rate - Exclusive Complexity\", 7)\n",
    "plot_results(learning_rate[1,:], \"learning_rate - Mixed Complexity\", 8)  \n",
    "plot_results(batch_size[0,:], \"batch_size - Exclusive Complexity\", 9)\n",
    "plot_results(batch_size[1,:], \"batch_size - Mixed Complexity\", 10)  \n",
    "if NET == 'dilation':\n",
    "    plot_results(num_layer[0,:], \"num_layer - Exclusive Complexity\", 11)\n",
    "    plot_results(num_layer[1,:], \"num_layer - Mixed Complexity\", 12) \n",
    "    plot_results(complex_dilation[0,:], \"complex_dilation - Exclusive Complexity\", 13)\n",
    "    plot_results(complex_dilation[1,:], \"complex_dilation - Mixed Complexity\", 14) "
   ]
  },
  {
   "cell_type": "code",
   "execution_count": null,
   "metadata": {},
   "outputs": [],
   "source": [
    "\n",
    "missing = np.zeros([2, 5])\n",
    "\n",
    "C = [3,5,7,9,11]#[5, 10, 20, 40, 80]#\n",
    "alpha = [0.1, 0.2, 0.4]\n",
    "init_factor = [1, 1e-1, 1e1]\n",
    "batch_size = [32, 256, 2048]\n",
    "learning_rate = [1e0, 1e-1, 1e-2, 1e-3, 1e-4, 1e-5]\n",
    "\n",
    "for c in alpha:\n",
    "    max_val_acc = np.zeros([2, 5])\n",
    "    max_idx = -np.ones([2, 5])\n",
    "    for point_idx, data_point in enumerate(results_data):\n",
    "\n",
    "        point_complextity = data_point[\"dataset_complexity\"]\n",
    "        idx_strict = 1-int(data_point[\"dataset_strict_complexity\"])\n",
    "\n",
    "        #if (not (\"val\" in data_point[\"results\"])):\n",
    "        #    print(point_idx)\n",
    "\n",
    "        if (data_point[\"alpha\"] == c) and not (data_point[\"results\"] == \"empty\") and (\"val\" in data_point[\"results\"]): \n",
    "\n",
    "                if max_val_acc[idx_strict, point_complextity] < data_point[\"results\"][\"valloose\"]:\n",
    "                    max_idx[idx_strict, point_complextity] = point_idx\n",
    "                    max_val_acc[idx_strict, point_complextity] = data_point[\"results\"][\"valloose\"]\n",
    "\n",
    "        else:\n",
    "            missing[idx_strict, point_complextity] += 1\n",
    "\n",
    "    max_train = np.zeros([2, 5])\n",
    "    max_test = np.zeros([2, 5])\n",
    "    max_train_loose = np.zeros([2, 5])\n",
    "    max_test_loose = np.zeros([2, 5])\n",
    "    for idx_strict, dataset_strict_complexity  in enumerate([True, False]):\n",
    "        for dataset_complexity in range(5):\n",
    "            max_train[idx_strict, dataset_complexity] = \\\n",
    "                results_data[int(max_idx[idx_strict,dataset_complexity])][\"results\"][\"train\"]\n",
    "            max_test[idx_strict, dataset_complexity] = \\\n",
    "                results_data[int(max_idx[idx_strict,dataset_complexity])][\"results\"][\"test\"]\n",
    "            max_train_loose[idx_strict, dataset_complexity] = \\\n",
    "                results_data[int(max_idx[idx_strict,dataset_complexity])][\"results\"][\"trainloose\"]\n",
    "            max_test_loose[idx_strict, dataset_complexity] = \\\n",
    "                results_data[int(max_idx[idx_strict,dataset_complexity])][\"results\"][\"testloose\"]\n",
    "            \n",
    "    plot_results_train_test(100*max_train[0,:], \"Exclusive Complexity\", 1, \"C=\"+str(c))\n",
    "    #plot_results_train_test(100*max_train[1,:], \"Mixed Complexity\", 2, \"C=\"+str(c))\n",
    "    plot_results_train_test(100*max_train_loose[0,:], \"Loose Acc - Exclusive Complexity\", 3, \"C=\"+str(c))\n",
    "    #plot_results_train_test(100*max_train_loose[1,:], \"Loose Acc - Mixed Complexity\", 4, \"C=\"+str(c))    "
   ]
  },
  {
   "cell_type": "code",
   "execution_count": null,
   "metadata": {},
   "outputs": [],
   "source": [
    "output_path = '/om/user/xboix/share/insideness/' + NET + '/'\n",
    "run_opt = experiments.get_best_of_the_family(output_path)\n",
    "opt_data = datasets.get_datasets(output_path)"
   ]
  },
  {
   "cell_type": "code",
   "execution_count": null,
   "metadata": {
    "scrolled": false
   },
   "outputs": [],
   "source": [
    "results_data_generalization = []\n",
    "for opt in run_opt:\n",
    "    data_point = {}\n",
    "    data_point[\"C\"] = 0 #opt.hyper.complex_crossing\n",
    "    data_point[\"alpha\"] =  opt.hyper.alpha\n",
    "    data_point[\"init_factor\"] = opt.hyper.init_factor\n",
    "    data_point[\"learning_rate\"] = opt.hyper.learning_rate\n",
    "    data_point[\"batch_size\"] = opt.hyper.batch_size\n",
    "    \n",
    "    if NET == 'dilation':\n",
    "        data_point[\"num_layer\"] = opt.dnn.num_layers\n",
    "        data_point[\"complex_dilation\"] = opt.dnn.complex_dilation\n",
    "        \n",
    "    data_point[\"dataset_complexity\"] = opt.dataset.complexity\n",
    "    data_point[\"dataset_strict_complexity\"] = opt.dataset.complexity_strict\n",
    "    \n",
    "    if not os.path.isfile(opt.log_dir_base + opt.name + '/results/generalization_accuracy.pkl'):\n",
    "        data_point[\"results\"] = \"empty\"\n",
    "        print('EMPTY')\n",
    "    else:\n",
    "        with open(opt.log_dir_base + opt.name + '/results/generalization_accuracy.pkl', 'rb') as f:\n",
    "            data_point[\"results\"] = pickle.load(f)\n",
    "            \n",
    "    results_data_generalization.append(copy.deepcopy(data_point))\n",
    "    \n",
    "datasets_idx = np.zeros([2,NUM_COMPLEXITIES])\n",
    "for idx, opt in enumerate(opt_data):\n",
    "    if not opt.num_images_training == 1e5:\n",
    "        continue\n",
    "    if opt.complexity_strict:\n",
    "        datasets_idx[0,opt.complexity] = idx\n",
    "    else:\n",
    "        datasets_idx[1,opt.complexity] = idx\n",
    "\n",
    "results_data_generalization"
   ]
  },
  {
   "cell_type": "code",
   "execution_count": null,
   "metadata": {
    "scrolled": false
   },
   "outputs": [],
   "source": [
    "dataset_labels = ['easy','med-easy','medium','med-hard','hard', 'spiral' ]\n",
    "#fontbf = FontProperties()\n",
    "#fontbf.set_weight('bold')\n",
    "\n",
    "def plot_results_generalization(train, title, fig, name):\n",
    "    x = np.linspace(1,NUM_COMPLEXITIES, NUM_COMPLEXITIES)\n",
    "    xlabels = dataset_labels\n",
    "    ytext = r'Accuracy (%)'\n",
    "    xtext = r'$\\bf Test$ $\\bf Set$'\n",
    "    \n",
    "    plt.figure(fig)\n",
    "    #print(train)\n",
    "    plt.plot(x, train, label=name)\n",
    "    plt.title(title)\n",
    "    plt.ylabel(ytext)\n",
    "    plt.xticks(x, xlabels)\n",
    "    plt.xlabel(xtext)\n",
    "    leg = plt.legend(loc='upper right', ncol=1,  title=r'$\\bf Train$ $\\bf Set$', fancybox=True)\n",
    "\n",
    "for res in results_data_generalization:\n",
    "    \n",
    "    #Collect all generalization results for one network\n",
    "    test = np.zeros([2, NUM_COMPLEXITIES])\n",
    "    test_loose = np.zeros([2, NUM_COMPLEXITIES])\n",
    "    for idx_strict, dataset_strict_complexity  in enumerate([True, False]):\n",
    "        for dataset_complexity in range(NUM_COMPLEXITIES):\n",
    "            test[idx_strict, dataset_complexity] = \\\n",
    "                res[\"results\"][\"test_accuracy\"][int(datasets_idx[idx_strict,dataset_complexity])]\n",
    "            test_loose[idx_strict, dataset_complexity] = \\\n",
    "                res[\"results\"][\"test_accuracy_loose\"][int(datasets_idx[idx_strict,dataset_complexity])]\n",
    "            \n",
    "    if res['dataset_strict_complexity']:\n",
    "        plot_results_generalization(100*test[0,:], \"Exclusive Complexity\", 0, dataset_labels[res['dataset_complexity']])\n",
    "        plot_results_generalization(100*test_loose[0,:], \"Exclusive Complexity - Loose Acc\", 2, dataset_labels[res['dataset_complexity']])\n",
    "    else:\n",
    "        plot_results_generalization(100*test[0,:], \"Mixed Complexity\", 1, dataset_labels[res['dataset_complexity']])\n",
    "        plot_results_generalization(100*test_loose[0,:], \"Mixed Complexity - Loose Acc\", 3, dataset_labels[res['dataset_complexity']])\n",
    "        \n",
    "        "
   ]
  },
  {
   "cell_type": "code",
   "execution_count": null,
   "metadata": {},
   "outputs": [],
   "source": [
    "output_path = '/om/user/xboix/share/insideness/' + NET + '/'\n",
    "run_opt = experiments.get_experiments_selected(output_path)"
   ]
  },
  {
   "cell_type": "code",
   "execution_count": null,
   "metadata": {},
   "outputs": [],
   "source": [
    "results_data_initial_conditions = []\n",
    "for opt in run_opt:\n",
    "    data_point = {}\n",
    "    data_point[\"C\"] = 0 #opt.hyper.complex_crossing\n",
    "    data_point[\"alpha\"] =  opt.hyper.alpha\n",
    "    data_point[\"init_factor\"] = opt.hyper.init_factor\n",
    "    data_point[\"learning_rate\"] = opt.hyper.learning_rate\n",
    "    data_point[\"batch_size\"] = opt.hyper.batch_size\n",
    "       \n",
    "    if NET == 'dilation':\n",
    "        data_point[\"num_layer\"] = opt.dnn.num_layers\n",
    "        data_point[\"complex_dilation\"] = opt.dnn.complex_dilation\n",
    "        \n",
    "    data_point[\"dataset_complexity\"] = opt.dataset.complexity\n",
    "    data_point[\"dataset_strict_complexity\"] = opt.dataset.complexity_strict\n",
    "\n",
    "    if not os.path.isfile(opt.log_dir_base + opt.name + '/results/intra_dataset_accuracy.pkl'):\n",
    "        data_point[\"results\"] = \"empty\"\n",
    "       \n",
    "    else:\n",
    "        with open(opt.log_dir_base + opt.name + '/results/intra_dataset_accuracy.pkl', 'rb') as f:\n",
    "            data_point[\"results\"] = pickle.load(f)\n",
    "            \n",
    "    results_data_initial_conditions.append(copy.deepcopy(data_point))"
   ]
  },
  {
   "cell_type": "code",
   "execution_count": null,
   "metadata": {
    "scrolled": false
   },
   "outputs": [],
   "source": [
    "NUM_SAMPLES = 100\n",
    "\n",
    "def plot_distribution(data, fig, title):\n",
    "    plt.figure(fig)\n",
    "    plt.axis([0, 100, 0, 100])\n",
    "    plt.title(title)\n",
    "    plt.hist(data, bins=np.arange(0, 100 + 5, 5), density=False, facecolor='g', alpha=0.75)\n",
    "\n",
    "fig_num = 0\n",
    "for idx_strict, dataset_strict_complexity in enumerate([True, False]):\n",
    "    for dataset_complexity in range(5):\n",
    "        acc = np.zeros([2, NUM_SAMPLES])\n",
    "        k = 0\n",
    "        for res in results_data_initial_conditions:\n",
    "                \n",
    "                if (res[\"dataset_complexity\"] == dataset_complexity) and (res[\"dataset_strict_complexity\"] == dataset_strict_complexity):\n",
    "                    if not res[\"results\"] == \"empty\":\n",
    "                        acc[0, k] = res[\"results\"][\"test\"]\n",
    "                        acc[1, k] = res[\"results\"][\"testloose\"]\n",
    "                        k+=1\n",
    "                    \n",
    "        plot_distribution(100*acc[0,:], fig_num, str(dataset_complexity))\n",
    "        fig_num += 1\n",
    "        plot_distribution(100*acc[1,:], fig_num, str(dataset_complexity))\n",
    "        fig_num += 1\n",
    "                    "
   ]
  },
  {
   "cell_type": "code",
   "execution_count": null,
   "metadata": {},
   "outputs": [],
   "source": [
    "import experiments2\n",
    "opt_run = experiments2.get_best_of_the_family(output_path)\n",
    "\n",
    "results_data_perturbation = []\n",
    "for opt in opt_run:\n",
    "    data_point = {}\n",
    "    data_point[\"C\"] = opt.hyper.complex_crossing\n",
    "    data_point[\"alpha\"] =  opt.hyper.alpha\n",
    "    data_point[\"init_factor\"] = opt.hyper.init_factor\n",
    "    data_point[\"learning_rate\"] = opt.hyper.learning_rate\n",
    "    data_point[\"batch_size\"] = opt.hyper.batch_size\n",
    "        \n",
    "    data_point[\"dataset_complexity\"] = opt.dataset.complexity\n",
    "    data_point[\"dataset_strict_complexity\"] = opt.dataset.complexity_strict\n",
    "    \n",
    "    if not os.path.isfile(opt.log_dir_base + opt.name + '/results/intra_dataset_perturbation.pkl'):\n",
    "        data_point[\"results\"] = \"empty\"\n",
    "       \n",
    "    else:\n",
    "        with open(opt.log_dir_base + opt.name + '/results/intra_dataset_perturbation.pkl', 'rb') as f:\n",
    "            data_point[\"results\"] = pickle.load(f)\n",
    "            \n",
    "    results_data_perturbation.append(copy.deepcopy(data_point))\n",
    "\n",
    "print(results_data_perturbation[0]['results'][9])\n",
    "\n",
    "\n",
    "datasets_idx = np.zeros([2,5])\n",
    "for idx, opt in enumerate(opt_data[40:50]):\n",
    "    if opt.complexity_strict:\n",
    "        datasets_idx[0,opt.complexity] = idx\n",
    "    else:\n",
    "        datasets_idx[1,opt.complexity] = idx"
   ]
  },
  {
   "cell_type": "code",
   "execution_count": null,
   "metadata": {},
   "outputs": [],
   "source": [
    "dataset_labels = ['easy','med-easy','medium','med-hard','hard' ]\n",
    "NUM_TRIALS = 5\n",
    "DELTAS = [1e-4, 5e-3, 1e-2, 5e-2, 1e-1, 1]\n",
    "\n",
    "def plot_results_perturbation(train, title, fig, name):\n",
    "    x = np.log(DELTAS)\n",
    "    xlabels = DELTAS\n",
    "    ytext = r'Accuracy (%)'\n",
    "    xtext = r'$\\bf Test$ $\\bf Set$'\n",
    "    \n",
    "    plt.figure(fig)\n",
    "    #print(train)\n",
    "    plt.plot(x, train, label=name)\n",
    "    plt.title(title)\n",
    "    plt.ylabel(ytext)\n",
    "    plt.xticks(x, xlabels)\n",
    "    plt.xlabel(xtext)\n",
    "    leg = plt.legend(loc='upper right', ncol=1,  title=r'$\\bf Train$ $\\bf Set$', fancybox=True)\n",
    "\n",
    "idx_plot = 0\n",
    "for idx_strict, dataset_strict_complexity  in enumerate([True, False]):\n",
    "    for dataset_complexity in range(5):\n",
    "        \n",
    "        for idx_res, res in enumerate(results_data_perturbation):\n",
    "            \n",
    "            if (res['dataset_strict_complexity'] != dataset_strict_complexity) and idx_res!=0:\n",
    "                continue\n",
    "                \n",
    "            test = np.zeros([len(DELTAS)])\n",
    "            test_loose = np.zeros([len(DELTAS)])\n",
    "            \n",
    "            test[:] = \\\n",
    "                np.average(res[\"results\"][int(datasets_idx[idx_strict,dataset_complexity])][\"strict\"], axis=1)\n",
    "            \n",
    "            test_loose[:] = \\\n",
    "                np.average(res[\"results\"][int(datasets_idx[idx_strict,dataset_complexity])][\"loose\"], axis=1)\n",
    "            \n",
    "            if res['dataset_strict_complexity']:\n",
    "                plot_results_perturbation(100*test, \"Exclusive Complexity\", 0+4*idx_plot, dataset_labels[res['dataset_complexity']])\n",
    "                plot_results_perturbation(100*test_loose, \"Exclusive Complexity - Loose Acc\", 2+4*idx_plot, dataset_labels[res['dataset_complexity']])\n",
    "            else:\n",
    "                plot_results_perturbation(100*test, \"Mixed Complexity\", 1+4*idx_plot, dataset_labels[res['dataset_complexity']])\n",
    "                plot_results_perturbation(100*test_loose, \"Mixed Complexity - Loose Acc\", 3+4*idx_plot, dataset_labels[res['dataset_complexity']])\n",
    "        \n",
    "        idx_plot += 1\n",
    "        "
   ]
  },
  {
   "cell_type": "code",
   "execution_count": null,
   "metadata": {},
   "outputs": [],
   "source": [
    "results_data_perturbation[0]"
   ]
  },
  {
   "cell_type": "code",
   "execution_count": null,
   "metadata": {},
   "outputs": [],
   "source": []
  },
  {
   "cell_type": "code",
   "execution_count": null,
   "metadata": {},
   "outputs": [],
   "source": []
  },
  {
   "cell_type": "code",
   "execution_count": null,
   "metadata": {},
   "outputs": [],
   "source": []
  }
 ],
 "metadata": {
  "kernelspec": {
   "display_name": "Python 3",
   "language": "python",
   "name": "python3"
  },
  "language_info": {
   "codemirror_mode": {
    "name": "ipython",
    "version": 3
   },
   "file_extension": ".py",
   "mimetype": "text/x-python",
   "name": "python",
   "nbconvert_exporter": "python",
   "pygments_lexer": "ipython3",
   "version": "3.5.2"
  }
 },
 "nbformat": 4,
 "nbformat_minor": 2
}
