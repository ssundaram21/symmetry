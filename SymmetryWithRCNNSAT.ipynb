{
 "cells": [
  {
   "cell_type": "code",
   "execution_count": 1,
   "metadata": {},
   "outputs": [],
   "source": [
    "import urllib\n",
    "\n",
    "import numpy as np\n",
    "import pandas as pd\n",
    "import tensorflow as tf\n",
    "import pickle\n",
    "import matplotlib.pyplot as plt\n",
    "from PIL import Image\n",
    "tf.compat.v1.enable_v2_behavior()\n",
    "\n",
    "from rcnn_sat.rcnn_sat.preprocess import preprocess_image\n",
    "from rcnn_sat.rcnn_sat.bl_net import bl_net\n",
    "\n",
    "from data.generate_symmetry_images import make_random, make_images"
   ]
  },
  {
   "cell_type": "code",
   "execution_count": 2,
   "metadata": {},
   "outputs": [],
   "source": [
    "data_path = \"/om/user/shobhita/data/symmetry/rcnn_sat/\""
   ]
  },
  {
   "cell_type": "code",
   "execution_count": 4,
   "metadata": {},
   "outputs": [
    {
     "name": "stdout",
     "output_type": "stream",
     "text": [
      "NS0\n",
      "NS2\n",
      "NS4\n",
      "NS6\n",
      "NSd4\n",
      "S0\n",
      "S2\n",
      "S4\n",
      "S6\n",
      "Sd4\n",
      "flank1S\n",
      "flank1NS\n",
      "flank2S\n",
      "flank2NS\n",
      "flank3S\n",
      "flank3NS\n",
      "stripe2S\n",
      "stripe4S\n",
      "stripe6S\n",
      "stripe8S\n",
      "stripe10S\n",
      "stripe2NS\n",
      "stripe4NS\n",
      "stripe6NS\n",
      "stripe8NS\n",
      "stripe10NS\n"
     ]
    }
   ],
   "source": [
    "train_data_synthetic = make_random([\"NS0\", \"NS4\", \"S0\", \"S4\"], n_images=4000)\n",
    "pickle.dump(train_data_synthetic, open(data_path + \"rcnn_train.pkl\", \"wb\"))\n",
    "\n",
    "datasets = [\"NS0\", \"NS2\", \"NS4\", \"NS6\", \"NSd4\", \"S0\", \"S2\", \"S4\", \"S6\", \"Sd4\"] + [\"flank1S\", \"flank1NS\", \"flank2S\", \"flank2NS\", \"flank3S\", \"flank3NS\"] + ['stripe2S', 'stripe4S', 'stripe6S', 'stripe8S', 'stripe10S', 'stripe2NS', 'stripe4NS', 'stripe6NS', 'stripe8NS', 'stripe10NS']\n",
    "\n",
    "for ds in datasets:\n",
    "    print(ds)\n",
    "    test_set = make_images(ds, n_images=1e4)\n",
    "    pickle.dump(test_set, open(data_path + \"rcnn_{}_test.pkl\".format(ds), \"wb\"))"
   ]
  },
  {
   "cell_type": "code",
   "execution_count": 5,
   "metadata": {},
   "outputs": [],
   "source": [
    "input_layer = tf.keras.layers.Input((128, 128, 3))\n",
    "model = bl_net(input_layer, classes=565, cumulative_readout=True)"
   ]
  },
  {
   "cell_type": "code",
   "execution_count": 6,
   "metadata": {},
   "outputs": [
    {
     "name": "stdout",
     "output_type": "stream",
     "text": [
      "Server: nginx\n",
      "Date: Wed, 21 Apr 2021 22:24:43 GMT\n",
      "Content-Type: application/octet-stream\n",
      "Content-Length: 112560228\n",
      "X-Waterbutler-Request-Id: 1331e6ac-0061-477d-b1e3-4d85806ab130\n",
      "Content-Disposition: attachment; filename=\"bl_ecoset.h5\"; filename*=UTF-8''bl_ecoset.h5\n",
      "Cache-Control: no-cache, no-store, max-age=0, must-revalidate\n",
      "Expires: Mon, 01 Jan 1990 00:00:00 GMT\n",
      "Pragma: no-cache\n",
      "Via: 1.1 google\n",
      "Alt-Svc: clear\n",
      "Connection: close\n",
      "\n",
      "\n"
     ]
    }
   ],
   "source": [
    "_, msg = urllib.request.urlretrieve(\n",
    "    'https://osf.io/9td5p/download', 'bl_imagenet.h5')\n",
    "print(msg)"
   ]
  },
  {
   "cell_type": "code",
   "execution_count": 7,
   "metadata": {},
   "outputs": [],
   "source": [
    "model.load_weights('bl_imagenet.h5')"
   ]
  },
  {
   "cell_type": "code",
   "execution_count": 8,
   "metadata": {},
   "outputs": [
    {
     "data": {
      "text/plain": [
       "[<tensorflow.python.keras.engine.input_layer.InputLayer at 0x2b39197388d0>,\n",
       " <tensorflow.python.keras.layers.convolutional.Conv2D at 0x2b391948c9b0>,\n",
       " <tensorflow.python.keras.layers.core.Lambda at 0x2b391abfe5f8>,\n",
       " <tensorflow.python.keras.layers.normalization_v2.BatchNormalization at 0x2b39199529e8>,\n",
       " <tensorflow.python.keras.layers.core.Activation at 0x2b3919952390>,\n",
       " <tensorflow.python.keras.layers.pooling.MaxPooling2D at 0x2b39199520f0>,\n",
       " <tensorflow.python.keras.layers.convolutional.Conv2D at 0x2b391abfe780>,\n",
       " <tensorflow.python.keras.layers.convolutional.Conv2D at 0x2b391abfe898>,\n",
       " <tensorflow.python.keras.layers.core.Lambda at 0x2b391abfef28>,\n",
       " <tensorflow.python.keras.layers.normalization_v2.BatchNormalization at 0x2b3919ee6518>,\n",
       " <tensorflow.python.keras.layers.normalization_v2.BatchNormalization at 0x2b3919eeb198>,\n",
       " <tensorflow.python.keras.layers.core.Activation at 0x2b39197d4390>,\n",
       " <tensorflow.python.keras.layers.core.Activation at 0x2b3919eebc18>,\n",
       " <tensorflow.python.keras.layers.pooling.MaxPooling2D at 0x2b39197d4b38>,\n",
       " <tensorflow.python.keras.layers.pooling.MaxPooling2D at 0x2b39263f5630>,\n",
       " <tensorflow.python.keras.layers.convolutional.Conv2D at 0x2b391abfec88>,\n",
       " <tensorflow.python.keras.layers.convolutional.Conv2D at 0x2b391abfed68>,\n",
       " <tensorflow.python.keras.layers.normalization_v2.BatchNormalization at 0x2b39267ee668>,\n",
       " <tensorflow.python.keras.layers.core.Lambda at 0x2b39267df908>,\n",
       " <tensorflow.python.keras.layers.normalization_v2.BatchNormalization at 0x2b39197c7080>,\n",
       " <tensorflow.python.keras.layers.core.Activation at 0x2b391b2a51d0>,\n",
       " <tensorflow.python.keras.layers.normalization_v2.BatchNormalization at 0x2b391a7d4710>,\n",
       " <tensorflow.python.keras.layers.core.Activation at 0x2b39263db1d0>,\n",
       " <tensorflow.python.keras.layers.pooling.MaxPooling2D at 0x2b391b2a5978>,\n",
       " <tensorflow.python.keras.layers.core.Activation at 0x2b39267e9c50>,\n",
       " <tensorflow.python.keras.layers.pooling.MaxPooling2D at 0x2b391a7d0cf8>,\n",
       " <tensorflow.python.keras.layers.pooling.MaxPooling2D at 0x2b39267e9a20>,\n",
       " <tensorflow.python.keras.layers.convolutional.Conv2D at 0x2b39267dfc88>,\n",
       " <tensorflow.python.keras.layers.normalization_v2.BatchNormalization at 0x2b391afe65f8>,\n",
       " <tensorflow.python.keras.layers.convolutional.Conv2D at 0x2b39267df390>,\n",
       " <tensorflow.python.keras.layers.normalization_v2.BatchNormalization at 0x2b39267de908>,\n",
       " <tensorflow.python.keras.layers.core.Activation at 0x2b391afe6e10>,\n",
       " <tensorflow.python.keras.layers.core.Lambda at 0x2b3919821f98>,\n",
       " <tensorflow.python.keras.layers.normalization_v2.BatchNormalization at 0x2b391b2cda90>,\n",
       " <tensorflow.python.keras.layers.core.Activation at 0x2b39267a8a90>,\n",
       " <tensorflow.python.keras.layers.pooling.MaxPooling2D at 0x2b391b001048>,\n",
       " <tensorflow.python.keras.layers.normalization_v2.BatchNormalization at 0x2b39267c3d30>,\n",
       " <tensorflow.python.keras.layers.core.Activation at 0x2b39263e67b8>,\n",
       " <tensorflow.python.keras.layers.pooling.MaxPooling2D at 0x2b39267a8f60>,\n",
       " <tensorflow.python.keras.layers.core.Activation at 0x2b39267c3278>,\n",
       " <tensorflow.python.keras.layers.pooling.MaxPooling2D at 0x2b39263e6c88>,\n",
       " <tensorflow.python.keras.layers.normalization_v2.BatchNormalization at 0x2b391b0ef9b0>,\n",
       " <tensorflow.python.keras.layers.pooling.MaxPooling2D at 0x2b39263f6748>,\n",
       " <tensorflow.python.keras.layers.convolutional.Conv2D at 0x2b39267df978>,\n",
       " <tensorflow.python.keras.layers.normalization_v2.BatchNormalization at 0x2b391b007b38>,\n",
       " <tensorflow.python.keras.layers.core.Activation at 0x2b391b11ba58>,\n",
       " <tensorflow.python.keras.layers.convolutional.Conv2D at 0x2b39198211d0>,\n",
       " <tensorflow.python.keras.layers.normalization_v2.BatchNormalization at 0x2b3919bf9048>,\n",
       " <tensorflow.python.keras.layers.core.Activation at 0x2b391b01c828>,\n",
       " <tensorflow.python.keras.layers.pooling.MaxPooling2D at 0x2b391b11b780>,\n",
       " <tensorflow.python.keras.layers.core.Lambda at 0x2b39198218d0>,\n",
       " <tensorflow.python.keras.layers.normalization_v2.BatchNormalization at 0x2b39267fdda0>,\n",
       " <tensorflow.python.keras.layers.core.Activation at 0x2b39197fdb38>,\n",
       " <tensorflow.python.keras.layers.pooling.MaxPooling2D at 0x2b391b01cfd0>,\n",
       " <tensorflow.python.keras.layers.normalization_v2.BatchNormalization at 0x2b391abf6dd8>,\n",
       " <tensorflow.python.keras.layers.core.Activation at 0x2b39198226d8>,\n",
       " <tensorflow.python.keras.layers.pooling.MaxPooling2D at 0x2b391b1f6f98>,\n",
       " <tensorflow.python.keras.layers.normalization_v2.BatchNormalization at 0x2b391abb1860>,\n",
       " <tensorflow.python.keras.layers.core.Activation at 0x2b39263e9ac8>,\n",
       " <tensorflow.python.keras.layers.pooling.MaxPooling2D at 0x2b3919822320>,\n",
       " <tensorflow.python.keras.layers.normalization_v2.BatchNormalization at 0x2b391ad29518>,\n",
       " <tensorflow.python.keras.layers.core.Activation at 0x2b391abde4e0>,\n",
       " <tensorflow.python.keras.layers.pooling.MaxPooling2D at 0x2b39263e9be0>,\n",
       " <tensorflow.python.keras.layers.convolutional.Conv2D at 0x2b39198215f8>,\n",
       " <tensorflow.python.keras.layers.normalization_v2.BatchNormalization at 0x2b391994e8d0>,\n",
       " <tensorflow.python.keras.layers.core.Activation at 0x2b391ad5a358>,\n",
       " <tensorflow.python.keras.layers.pooling.MaxPooling2D at 0x2b391abde208>,\n",
       " <tensorflow.python.keras.layers.convolutional.Conv2D at 0x2b3919821a90>,\n",
       " <tensorflow.python.keras.layers.normalization_v2.BatchNormalization at 0x2b39267a5e48>,\n",
       " <tensorflow.python.keras.layers.core.Activation at 0x2b391993f710>,\n",
       " <tensorflow.python.keras.layers.pooling.MaxPooling2D at 0x2b391ad5a588>,\n",
       " <tensorflow.python.keras.layers.core.Lambda at 0x2b39198212b0>,\n",
       " <tensorflow.python.keras.layers.normalization_v2.BatchNormalization at 0x2b391b2d2080>,\n",
       " <tensorflow.python.keras.layers.core.Activation at 0x2b391aae1128>,\n",
       " <tensorflow.python.keras.layers.pooling.MaxPooling2D at 0x2b391993f940>,\n",
       " <tensorflow.python.keras.layers.normalization_v2.BatchNormalization at 0x2b391b1567f0>,\n",
       " <tensorflow.python.keras.layers.normalization_v2.BatchNormalization at 0x2b39263d7b38>,\n",
       " <tensorflow.python.keras.layers.core.Activation at 0x2b391aac66d8>,\n",
       " <tensorflow.python.keras.layers.pooling.MaxPooling2D at 0x2b391aae1c18>,\n",
       " <tensorflow.python.keras.layers.normalization_v2.BatchNormalization at 0x2b3919aab668>,\n",
       " <tensorflow.python.keras.layers.core.Activation at 0x2b391b156f28>,\n",
       " <tensorflow.python.keras.layers.core.Activation at 0x2b39263e4208>,\n",
       " <tensorflow.python.keras.layers.pooling.MaxPooling2D at 0x2b391aac6860>,\n",
       " <tensorflow.python.keras.layers.normalization_v2.BatchNormalization at 0x2b391ad3d2b0>,\n",
       " <tensorflow.python.keras.layers.core.Activation at 0x2b3919aabfd0>,\n",
       " <tensorflow.python.keras.layers.pooling.MaxPooling2D at 0x2b391b15d0b8>,\n",
       " <tensorflow.python.keras.layers.pooling.MaxPooling2D at 0x2b39267d5748>,\n",
       " <tensorflow.python.keras.layers.convolutional.Conv2D at 0x2b3919821dd8>,\n",
       " <tensorflow.python.keras.layers.normalization_v2.BatchNormalization at 0x2b3919927668>,\n",
       " <tensorflow.python.keras.layers.core.Activation at 0x2b391ad4f0f0>,\n",
       " <tensorflow.python.keras.layers.pooling.MaxPooling2D at 0x2b3919aabdd8>,\n",
       " <tensorflow.python.keras.layers.convolutional.Conv2D at 0x2b391aaca7f0>,\n",
       " <tensorflow.python.keras.layers.normalization_v2.BatchNormalization at 0x2b3919efd2b0>,\n",
       " <tensorflow.python.keras.layers.core.Activation at 0x2b391992d4a8>,\n",
       " <tensorflow.python.keras.layers.pooling.MaxPooling2D at 0x2b391ad4f080>,\n",
       " <tensorflow.python.keras.layers.normalization_v2.BatchNormalization at 0x2b391b532dd8>,\n",
       " <tensorflow.python.keras.layers.core.Lambda at 0x2b391aacab00>,\n",
       " <tensorflow.python.keras.layers.normalization_v2.BatchNormalization at 0x2b391a7d9908>,\n",
       " <tensorflow.python.keras.layers.core.Activation at 0x2b39197e5240>,\n",
       " <tensorflow.python.keras.layers.pooling.MaxPooling2D at 0x2b391992d6d8>,\n",
       " <tensorflow.python.keras.layers.normalization_v2.BatchNormalization at 0x2b391b143b00>,\n",
       " <tensorflow.python.keras.layers.core.Activation at 0x2b391b562cf8>,\n",
       " <tensorflow.python.keras.layers.normalization_v2.BatchNormalization at 0x2b3919beda20>,\n",
       " <tensorflow.python.keras.layers.core.Activation at 0x2b39267dac88>,\n",
       " <tensorflow.python.keras.layers.pooling.MaxPooling2D at 0x2b39197e57b8>,\n",
       " <tensorflow.python.keras.layers.normalization_v2.BatchNormalization at 0x2b3919ac1cf8>,\n",
       " <tensorflow.python.keras.layers.core.Activation at 0x2b391b142940>,\n",
       " <tensorflow.python.keras.layers.pooling.MaxPooling2D at 0x2b391b562a20>,\n",
       " <tensorflow.python.keras.layers.core.Activation at 0x2b39197e7fd0>,\n",
       " <tensorflow.python.keras.layers.pooling.MaxPooling2D at 0x2b391b2c8048>,\n",
       " <tensorflow.python.keras.layers.normalization_v2.BatchNormalization at 0x2b391b51ad68>,\n",
       " <tensorflow.python.keras.layers.core.Activation at 0x2b3919acfb38>,\n",
       " <tensorflow.python.keras.layers.pooling.MaxPooling2D at 0x2b391b142b70>,\n",
       " <tensorflow.python.keras.layers.convolutional.Conv2D at 0x2b391aaca0f0>,\n",
       " <tensorflow.python.keras.layers.normalization_v2.BatchNormalization at 0x2b391b3db4e0>,\n",
       " <tensorflow.python.keras.layers.core.Activation at 0x2b391b51a630>,\n",
       " <tensorflow.python.keras.layers.pooling.MaxPooling2D at 0x2b3919acfd68>,\n",
       " <tensorflow.python.keras.layers.normalization_v2.BatchNormalization at 0x2b391aad9a20>,\n",
       " <tensorflow.python.keras.layers.core.Activation at 0x2b391b3c3240>,\n",
       " <tensorflow.python.keras.layers.pooling.MaxPooling2D at 0x2b391b5153c8>,\n",
       " <tensorflow.python.keras.layers.normalization_v2.BatchNormalization at 0x2b391b272080>,\n",
       " <tensorflow.python.keras.layers.normalization_v2.BatchNormalization at 0x2b391b3f3ac8>,\n",
       " <tensorflow.python.keras.layers.core.Activation at 0x2b39263e8048>,\n",
       " <tensorflow.python.keras.layers.pooling.MaxPooling2D at 0x2b391b3c3470>,\n",
       " <tensorflow.python.keras.layers.normalization_v2.BatchNormalization at 0x2b392653e898>,\n",
       " <tensorflow.python.keras.layers.core.Activation at 0x2b391b2935f8>,\n",
       " <tensorflow.python.keras.layers.core.Activation at 0x2b39197acd30>,\n",
       " <tensorflow.python.keras.layers.pooling.MaxPooling2D at 0x2b39263e8e10>,\n",
       " <tensorflow.python.keras.layers.normalization_v2.BatchNormalization at 0x2b3919cefa90>,\n",
       " <tensorflow.python.keras.layers.core.Activation at 0x2b39265426d8>,\n",
       " <tensorflow.python.keras.layers.pooling.MaxPooling2D at 0x2b391b293828>,\n",
       " <tensorflow.python.keras.layers.normalization_v2.BatchNormalization at 0x2b391b4fcda0>,\n",
       " <tensorflow.python.keras.layers.core.Activation at 0x2b3919cf88d0>,\n",
       " <tensorflow.python.keras.layers.pooling.MaxPooling2D at 0x2b3926542908>,\n",
       " <tensorflow.python.keras.layers.normalization_v2.BatchNormalization at 0x2b391b3c1198>,\n",
       " <tensorflow.python.keras.layers.core.Activation at 0x2b391b517be0>,\n",
       " <tensorflow.python.keras.layers.pooling.MaxPooling2D at 0x2b3919cf8b00>,\n",
       " <tensorflow.python.keras.layers.normalization_v2.BatchNormalization at 0x2b391a7e3e10>,\n",
       " <tensorflow.python.keras.layers.core.Activation at 0x2b391b3c1f28>,\n",
       " <tensorflow.python.keras.layers.pooling.MaxPooling2D at 0x2b391b517e10>,\n",
       " <tensorflow.python.keras.layers.normalization_v2.BatchNormalization at 0x2b391b277550>,\n",
       " <tensorflow.python.keras.layers.core.Activation at 0x2b391aac91d0>,\n",
       " <tensorflow.python.keras.layers.pooling.MaxPooling2D at 0x2b391b3b36d8>,\n",
       " <tensorflow.python.keras.layers.normalization_v2.BatchNormalization at 0x2b3926521630>,\n",
       " <tensorflow.python.keras.layers.core.Activation at 0x2b391b296390>,\n",
       " <tensorflow.python.keras.layers.normalization_v2.BatchNormalization at 0x2b3919ceb828>,\n",
       " <tensorflow.python.keras.layers.core.Activation at 0x2b392652c470>,\n",
       " <tensorflow.python.keras.layers.pooling.MaxPooling2D at 0x2b391b2965c0>,\n",
       " <tensorflow.python.keras.layers.normalization_v2.BatchNormalization at 0x2b39268e0b38>,\n",
       " <tensorflow.python.keras.layers.core.Activation at 0x2b3919cf4668>,\n",
       " <tensorflow.python.keras.layers.pooling.MaxPooling2D at 0x2b392652c6a0>,\n",
       " <tensorflow.python.keras.layers.normalization_v2.BatchNormalization at 0x2b391b11fef0>,\n",
       " <tensorflow.python.keras.layers.core.Activation at 0x2b39268d6978>,\n",
       " <tensorflow.python.keras.layers.pooling.MaxPooling2D at 0x2b3919cf4898>,\n",
       " <tensorflow.python.keras.layers.core.Activation at 0x2b391b113f60>,\n",
       " <tensorflow.python.keras.layers.pooling.MaxPooling2D at 0x2b39268d6ba8>,\n",
       " <tensorflow.python.keras.layers.normalization_v2.BatchNormalization at 0x2b3919d342e8>,\n",
       " <tensorflow.python.keras.layers.normalization_v2.BatchNormalization at 0x2b391b4013c8>,\n",
       " <tensorflow.python.keras.layers.core.Activation at 0x2b3919d26128>,\n",
       " <tensorflow.python.keras.layers.normalization_v2.BatchNormalization at 0x2b391acc15c0>,\n",
       " <tensorflow.python.keras.layers.core.Activation at 0x2b391b3eb208>,\n",
       " <tensorflow.python.keras.layers.pooling.MaxPooling2D at 0x2b3919d26080>,\n",
       " <tensorflow.python.keras.layers.normalization_v2.BatchNormalization at 0x2b39268d78d0>,\n",
       " <tensorflow.python.keras.layers.core.Activation at 0x2b391acd0400>,\n",
       " <tensorflow.python.keras.layers.pooling.MaxPooling2D at 0x2b391b3eb438>,\n",
       " <tensorflow.python.keras.layers.core.Activation at 0x2b39268db710>,\n",
       " <tensorflow.python.keras.layers.pooling.MaxPooling2D at 0x2b391acd0630>,\n",
       " <tensorflow.python.keras.layers.normalization_v2.BatchNormalization at 0x2b391b1c70b8>,\n",
       " <tensorflow.python.keras.layers.normalization_v2.BatchNormalization at 0x2b391b4200b8>,\n",
       " <tensorflow.python.keras.layers.core.Activation at 0x2b391b1c7d30>,\n",
       " <tensorflow.python.keras.layers.normalization_v2.BatchNormalization at 0x2b391acc2358>,\n",
       " <tensorflow.python.keras.layers.core.Activation at 0x2b391b420f60>,\n",
       " <tensorflow.python.keras.layers.pooling.MaxPooling2D at 0x2b3919d592b0>,\n",
       " <tensorflow.python.keras.layers.core.Activation at 0x2b391acac198>,\n",
       " <tensorflow.python.keras.layers.pooling.MaxPooling2D at 0x2b391b3fb358>,\n",
       " <tensorflow.python.keras.layers.normalization_v2.BatchNormalization at 0x2b391b1e0dd8>,\n",
       " <tensorflow.python.keras.layers.normalization_v2.BatchNormalization at 0x2b391b5335f8>,\n",
       " <tensorflow.python.keras.layers.core.Activation at 0x2b391b1b5c50>,\n",
       " <tensorflow.python.keras.layers.core.Activation at 0x2b391b537f28>,\n",
       " <tensorflow.python.keras.layers.pooling.MaxPooling2D at 0x2b391b1b5c18>,\n",
       " <tensorflow.python.keras.layers.normalization_v2.BatchNormalization at 0x2b391b1dcb70>,\n",
       " <tensorflow.python.keras.layers.core.Activation at 0x2b39264fb9b0>,\n",
       " <tensorflow.python.keras.layers.pooling.GlobalAveragePooling2D at 0x2b3919ea9978>,\n",
       " <tensorflow.python.keras.layers.pooling.GlobalAveragePooling2D at 0x2b39197acb38>,\n",
       " <tensorflow.python.keras.layers.pooling.GlobalAveragePooling2D at 0x2b391aac9240>,\n",
       " <tensorflow.python.keras.layers.pooling.GlobalAveragePooling2D at 0x2b391b113d30>,\n",
       " <tensorflow.python.keras.layers.pooling.GlobalAveragePooling2D at 0x2b39268db588>,\n",
       " <tensorflow.python.keras.layers.pooling.GlobalAveragePooling2D at 0x2b391acac080>,\n",
       " <tensorflow.python.keras.layers.pooling.GlobalAveragePooling2D at 0x2b391b537cf8>,\n",
       " <tensorflow.python.keras.layers.pooling.GlobalAveragePooling2D at 0x2b39264fb9e8>,\n",
       " <tensorflow.python.keras.layers.core.Dense at 0x2b3919952eb8>,\n",
       " <tensorflow.python.keras.layers.merge.Add at 0x2b39197dee10>,\n",
       " <tensorflow.python.keras.layers.merge.Add at 0x2b391b0154a8>,\n",
       " <tensorflow.python.keras.layers.merge.Add at 0x2b391b114c50>,\n",
       " <tensorflow.python.keras.layers.merge.Add at 0x2b391aba76a0>,\n",
       " <tensorflow.python.keras.layers.merge.Add at 0x2b391b12a198>,\n",
       " <tensorflow.python.keras.layers.merge.Add at 0x2b391b52dc18>,\n",
       " <tensorflow.python.keras.layers.merge.Add at 0x2b392650d940>,\n",
       " <tensorflow.python.keras.layers.core.Activation at 0x2b39267f86d8>,\n",
       " <tensorflow.python.keras.layers.core.Activation at 0x2b3919bf3b38>,\n",
       " <tensorflow.python.keras.layers.core.Activation at 0x2b391b015f28>,\n",
       " <tensorflow.python.keras.layers.core.Activation at 0x2b391b0efe80>,\n",
       " <tensorflow.python.keras.layers.core.Activation at 0x2b391abb1780>,\n",
       " <tensorflow.python.keras.layers.core.Activation at 0x2b391b12a1d0>,\n",
       " <tensorflow.python.keras.layers.core.Activation at 0x2b391b532a90>,\n",
       " <tensorflow.python.keras.layers.core.Activation at 0x2b392650ea20>]"
      ]
     },
     "execution_count": 8,
     "metadata": {},
     "output_type": "execute_result"
    }
   ],
   "source": [
    "model.layers"
   ]
  },
  {
   "cell_type": "code",
   "execution_count": 14,
   "metadata": {},
   "outputs": [
    {
     "data": {
      "text/plain": [
       "'GlobalAvgPool_Time_7'"
      ]
     },
     "execution_count": 14,
     "metadata": {},
     "output_type": "execute_result"
    }
   ],
   "source": [
    "model.layers[-17].name"
   ]
  },
  {
   "cell_type": "code",
   "execution_count": 15,
   "metadata": {},
   "outputs": [],
   "source": [
    "activation_fns = []\n",
    "for ts in range(8):\n",
    "    activation_fns.append(\n",
    "        tf.keras.backend.function(\n",
    "            [model.input],\n",
    "            [model.get_layer('GlobalAvgPool_Time_{}'.format(ts)).output])\n",
    "    )"
   ]
  },
  {
   "cell_type": "code",
   "execution_count": 16,
   "metadata": {},
   "outputs": [],
   "source": [
    "train_data_synthetic = pickle.load(open(data_path + \"rcnn_train.pkl\", \"rb\"))\n",
    "train_ims, train_labels = train_data_synthetic\n",
    "train_ims, train_labels = train_ims[:10000], train_labels[:10000]"
   ]
  },
  {
   "cell_type": "code",
   "execution_count": 34,
   "metadata": {},
   "outputs": [],
   "source": [
    "ims = train_ims[:4]\n",
    "processed_ims = np.asarray([preprocess_image(np.asarray(Image.fromarray(x.astype(\"uint8\")).convert(\"RGB\").resize((128, 128)))) for x in ims])"
   ]
  },
  {
   "cell_type": "code",
   "execution_count": 42,
   "metadata": {},
   "outputs": [],
   "source": [
    "batch_size = 2\n",
    "activations = []\n",
    "n_steps = len(processed_ims) // batch_size\n",
    "for i in range(n_steps):\n",
    "    batch_ims = processed_ims[i * batch_size : (i+1) * batch_size]\n",
    "    batch_acts = []\n",
    "    for ts in range(8):\n",
    "        batch_act = activation_fns[ts](batch_ims)[0]\n",
    "        batch_acts.append(batch_act)\n",
    "    activations.append(np.concatenate(np.asarray(batch_acts), axis=1))\n",
    "    "
   ]
  },
  {
   "cell_type": "code",
   "execution_count": 52,
   "metadata": {},
   "outputs": [
    {
     "data": {
      "text/plain": [
       "(2, 128, 128, 3)"
      ]
     },
     "execution_count": 52,
     "metadata": {},
     "output_type": "execute_result"
    }
   ],
   "source": [
    "indices = np.random.choice(len(processed_ims), 2, replace=False)\n",
    "processed_ims[indices].shape"
   ]
  },
  {
   "cell_type": "code",
   "execution_count": 53,
   "metadata": {},
   "outputs": [
    {
     "data": {
      "text/plain": [
       "(6, 128, 128, 3)"
      ]
     },
     "execution_count": 53,
     "metadata": {},
     "output_type": "execute_result"
    }
   ],
   "source": [
    "np.concatenate([processed_ims, processed_ims[indices]]).shape"
   ]
  },
  {
   "cell_type": "code",
   "execution_count": 24,
   "metadata": {},
   "outputs": [],
   "source": [
    "act = activation_fns[0](processed_ims)[0]"
   ]
  },
  {
   "cell_type": "code",
   "execution_count": null,
   "metadata": {},
   "outputs": [],
   "source": []
  },
  {
   "cell_type": "code",
   "execution_count": 27,
   "metadata": {},
   "outputs": [],
   "source": [
    "def get_activations(ims):\n",
    "    processed_ims = np.asarray([preprocess_image(np.asarray(Image.fromarray(x.astype(\"uint8\")).convert(\"RGB\").resize((128, 128)))) for x in ims])\n",
    "    \n",
    "    activations = []\n",
    "    for ts in range(3):\n",
    "        print(ts)\n",
    "        act = activation_fns[ts](processed_ims)[0]\n",
    "        activations.append(act)\n",
    "        \n",
    "    return np.concatenate(np.asarray(activations), axis=1)"
   ]
  },
  {
   "cell_type": "code",
   "execution_count": 32,
   "metadata": {},
   "outputs": [
    {
     "name": "stdout",
     "output_type": "stream",
     "text": [
      "0\n",
      "1\n",
      "2\n"
     ]
    }
   ],
   "source": [
    "trainx = get_activations(train_ims[:4])\n",
    "trainy = train_labels[:4]"
   ]
  },
  {
   "cell_type": "code",
   "execution_count": 29,
   "metadata": {},
   "outputs": [
    {
     "data": {
      "text/plain": [
       "(4, 6144)"
      ]
     },
     "execution_count": 29,
     "metadata": {},
     "output_type": "execute_result"
    }
   ],
   "source": [
    "trainx.shape"
   ]
  },
  {
   "cell_type": "code",
   "execution_count": 92,
   "metadata": {},
   "outputs": [],
   "source": [
    "from sklearn.linear_model import LogisticRegression"
   ]
  },
  {
   "cell_type": "code",
   "execution_count": 93,
   "metadata": {},
   "outputs": [],
   "source": [
    "model = LogisticRegression()\n",
    "model_fit = model.fit(trainx, trainy)"
   ]
  },
  {
   "cell_type": "code",
   "execution_count": 99,
   "metadata": {},
   "outputs": [
    {
     "name": "stdout",
     "output_type": "stream",
     "text": [
      "0\n",
      "1\n",
      "2\n"
     ]
    }
   ],
   "source": [
    "testx = get_activations(train_ims[4:6])\n",
    "testy = train_labels[4:6]\n",
    "pred = model_fit.predict_proba(testx)"
   ]
  },
  {
   "cell_type": "code",
   "execution_count": 100,
   "metadata": {},
   "outputs": [
    {
     "data": {
      "text/plain": [
       "array([[0.26089919, 0.73910081],\n",
       "       [0.96401262, 0.03598738]])"
      ]
     },
     "execution_count": 100,
     "metadata": {},
     "output_type": "execute_result"
    }
   ],
   "source": [
    "pred"
   ]
  },
  {
   "cell_type": "code",
   "execution_count": 105,
   "metadata": {},
   "outputs": [
    {
     "data": {
      "text/plain": [
       "0.5"
      ]
     },
     "execution_count": 105,
     "metadata": {},
     "output_type": "execute_result"
    }
   ],
   "source": [
    "preds = np.argmax(pred, axis=1)\n",
    "np.sum(preds == testy) / len(testy)"
   ]
  },
  {
   "cell_type": "code",
   "execution_count": 112,
   "metadata": {},
   "outputs": [],
   "source": [
    "test_sets = [\"NS0\", \"NS2\", \"NS4\", \"NS6\", \"NSd4\", \"S0\", \"S2\", \"S4\", \"S6\", \"Sd4\"] + [\"flank1S\", \"flank1NS\", \"flank2S\", \"flank2NS\", \"flank3S\", \"flank3NS\"] + ['stripe2S', 'stripe4S', 'stripe6S', 'stripe8S', 'stripe10S', 'stripe2NS', 'stripe4NS', 'stripe6NS', 'stripe8NS', 'stripe10NS']\n",
    "for ds in test_sets[:2]:\n",
    "    test_ims, test_labels = pickle.load(open(data_path + \"rcnn_{}_test.pkl\".format(ds), \"rb\"))"
   ]
  },
  {
   "cell_type": "code",
   "execution_count": 114,
   "metadata": {},
   "outputs": [
    {
     "data": {
      "text/plain": [
       "10000"
      ]
     },
     "execution_count": 114,
     "metadata": {},
     "output_type": "execute_result"
    }
   ],
   "source": [
    "len(test_ims)"
   ]
  },
  {
   "cell_type": "code",
   "execution_count": 121,
   "metadata": {},
   "outputs": [],
   "source": [
    "path = \"/om/user/shobhita/data/symmetry/natural_images/\"\n",
    "\n",
    "with open(path + \"symm_testing.pkl\", \"rb\") as handle:\n",
    "    full_test = np.asarray(pickle.load(handle))\n"
   ]
  },
  {
   "cell_type": "code",
   "execution_count": 123,
   "metadata": {},
   "outputs": [],
   "source": [
    "subset = full_test[np.random.randint(len(full_test), size=500), :]"
   ]
  },
  {
   "cell_type": "code",
   "execution_count": 133,
   "metadata": {},
   "outputs": [
    {
     "name": "stdout",
     "output_type": "stream",
     "text": [
      "1\n"
     ]
    },
    {
     "data": {
      "image/png": "[encoded data removed]",
      "text/plain": [
       "<Figure size 432x288 with 1 Axes>"
      ]
     },
     "metadata": {
      "needs_background": "light"
     },
     "output_type": "display_data"
    }
   ],
   "source": [
    "idx=12\n",
    "plt.imshow(subset[idx][0])\n",
    "print(subset[idx][1])"
   ]
  }
 ],
 "metadata": {
  "kernelspec": {
   "display_name": "Python 3",
   "language": "python",
   "name": "python3"
  },
  "language_info": {
   "codemirror_mode": {
    "name": "ipython",
    "version": 3
   },
   "file_extension": ".py",
   "mimetype": "text/x-python",
   "name": "python",
   "nbconvert_exporter": "python",
   "pygments_lexer": "ipython3",
   "version": "3.6.8"
  }
 },
 "nbformat": 4,
 "nbformat_minor": 4
}
