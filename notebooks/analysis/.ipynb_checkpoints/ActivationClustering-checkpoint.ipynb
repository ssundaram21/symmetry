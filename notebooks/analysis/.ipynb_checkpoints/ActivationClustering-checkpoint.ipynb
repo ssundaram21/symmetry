{
 "cells": [
  {
   "cell_type": "code",
   "execution_count": null,
   "metadata": {},
   "outputs": [],
   "source": [
    "NET = 'lstm3'\n",
    "import os.path\n",
    "import shutil\n",
    "import sys\n",
    "import tensorflow as tf\n",
    "import datasets\n",
    "import pickle\n",
    "import os\n",
    "import copy\n",
    "import numpy as np\n",
    "import matplotlib.pyplot as plt\n",
    "import pandas as pd\n",
    "from sklearn.cluster import KMeans\n",
    "from sklearn.metrics import pairwise_distances_argmin_min\n",
    "from matplotlib.font_manager import FontProperties\n",
    "\n",
    "if NET == 'dilation':\n",
    "    import experiments.dilation as experiments\n",
    "elif NET == 'lstm3':\n",
    "    import experiments.LSTM3 as experiments"
   ]
  },
  {
   "cell_type": "code",
   "execution_count": 2,
   "metadata": {},
   "outputs": [
    {
     "name": "stdout",
     "output_type": "stream",
     "text": [
      "215\n"
     ]
    }
   ],
   "source": [
    "output_path = '/om/user/shobhita/data/symmetry/' + NET + '/'\n",
    "network_id = 90 #specific ID we want to get activations for\n",
    "run_opt = experiments.get_best_of_the_family(output_path, network_id)\n",
    "opt_datasets = datasets.get_datasets(output_path)"
   ]
  },
  {
   "cell_type": "code",
   "execution_count": 3,
   "metadata": {},
   "outputs": [],
   "source": [
    "SYMMETRIC_DATASETS = [opt_datasets[28]]\n",
    "ASYMMETRIC_DATASETS = [opt_datasets[23]]"
   ]
  },
  {
   "cell_type": "code",
   "execution_count": 4,
   "metadata": {},
   "outputs": [
    {
     "data": {
      "text/plain": [
       "0"
      ]
     },
     "execution_count": 4,
     "metadata": {},
     "output_type": "execute_result"
    }
   ],
   "source": [
    "import gc\n",
    "gc.collect()"
   ]
  },
  {
   "cell_type": "code",
   "execution_count": 4,
   "metadata": {},
   "outputs": [],
   "source": [
    "datasets = SYMMETRIC_DATASETS\n",
    "data_points = {ts: [] for ts in [49]}\n",
    "for opt_data in datasets:\n",
    "    with open(run_opt.log_dir_base + run_opt.name + '/results/activations_DATA' + opt_data.log_name + '.pkl', 'rb') as f:\n",
    "        data_point = pickle.load(f)"
   ]
  },
  {
   "cell_type": "code",
   "execution_count": 24,
   "metadata": {},
   "outputs": [
    {
     "data": {
      "text/plain": [
       "50"
      ]
     },
     "execution_count": 24,
     "metadata": {},
     "output_type": "execute_result"
    }
   ],
   "source": [
    "len(data_point[0][0][0])"
   ]
  },
  {
   "cell_type": "code",
   "execution_count": 5,
   "metadata": {},
   "outputs": [
    {
     "name": "stdout",
     "output_type": "stream",
     "text": [
      "--------------------\n",
      "ID90_LSTM3_D32\n",
      "ID28_DATA_CatS6_D2\n",
      "\n",
      "CLUSTERING TIMESTEP 9\n",
      "OUTPUT SHAPE (10240, 20, 20)\n",
      "DF SHAPE:  (10240, 400)\n",
      "\n",
      "CLUSTERING TIMESTEP 19\n",
      "OUTPUT SHAPE (10240, 20, 20)\n",
      "DF SHAPE:  (10240, 400)\n",
      "\n",
      "CLUSTERING TIMESTEP 29\n",
      "OUTPUT SHAPE (10240, 20, 20)\n",
      "DF SHAPE:  (10240, 400)\n",
      "\n",
      "CLUSTERING TIMESTEP 39\n",
      "OUTPUT SHAPE (10240, 20, 20)\n",
      "DF SHAPE:  (10240, 400)\n",
      "\n",
      "CLUSTERING TIMESTEP 49\n",
      "OUTPUT SHAPE (10240, 20, 20)\n",
      "DF SHAPE:  (10240, 400)\n",
      "--------------------\n",
      "ID90_LSTM3_D32\n",
      "ID23_DATA_CatNS6_D2\n",
      "\n",
      "CLUSTERING TIMESTEP 9\n",
      "OUTPUT SHAPE (10240, 20, 20)\n",
      "DF SHAPE:  (10240, 400)\n",
      "\n",
      "CLUSTERING TIMESTEP 19\n",
      "OUTPUT SHAPE (10240, 20, 20)\n",
      "DF SHAPE:  (10240, 400)\n",
      "\n",
      "CLUSTERING TIMESTEP 29\n",
      "OUTPUT SHAPE (10240, 20, 20)\n",
      "DF SHAPE:  (10240, 400)\n",
      "\n",
      "CLUSTERING TIMESTEP 39\n",
      "OUTPUT SHAPE (10240, 20, 20)\n",
      "DF SHAPE:  (10240, 400)\n",
      "\n",
      "CLUSTERING TIMESTEP 49\n",
      "OUTPUT SHAPE (10240, 20, 20)\n",
      "DF SHAPE:  (10240, 400)\n"
     ]
    }
   ],
   "source": [
    "for datasets in [SYMMETRIC_DATASETS, ASYMMETRIC_DATASETS]:\n",
    "    data_points = {ts: [] for ts in [9, 19, 29, 39, 49]}\n",
    "    for opt_data in datasets:\n",
    "        with open(run_opt.log_dir_base + run_opt.name + '/results/activations_DATA' + opt_data.log_name + '.pkl', 'rb') as f:\n",
    "            data_point = pickle.load(f)\n",
    "            for channel in range(64):\n",
    "                for timestep in [9, 19, 29, 39, 49]:\n",
    "                    for iter in range(0, 10, 2):\n",
    "                            data_points[timestep].append(-data_point[iter][0][5][timestep][:, :, :, channel])\n",
    "        print('--------------------')\n",
    "        print(run_opt.name)\n",
    "        print(opt_data.log_name)\n",
    "        sys.stdout.flush()\n",
    "\n",
    "    for timestep in [9, 19, 29, 39, 49]:\n",
    "        print(\"\\nCLUSTERING TIMESTEP {}\".format(timestep))\n",
    "        dp = data_points[timestep]\n",
    "        outputs = np.concatenate(dp)\n",
    "        print(\"OUTPUT SHAPE\", outputs.shape)\n",
    "        sys.stdout.flush()\n",
    "\n",
    "        o = outputs.reshape((len(outputs), 400))\n",
    "\n",
    "        df = pd.DataFrame(o)\n",
    "\n",
    "        print(\"DF SHAPE: \", df.shape)\n",
    "        sys.stdout.flush()\n",
    "\n",
    "        n = 10\n",
    "        kmeans = KMeans(n_clusters=n, random_state=0).fit(df)\n",
    "        results = {}\n",
    "        results[\"centroids\"] = kmeans.cluster_centers_\n",
    "        results[\"data\"] = df\n",
    "        results[\"samples\"] = [outputs[15], outputs[45], outputs[53]]\n",
    "        results[\"labels\"] = kmeans.labels_\n",
    "        results[\"inertia\"] = kmeans.inertia_\n",
    "\n",
    "        idx = \"S\" if datasets == SYMMETRIC_DATASETS else \"NS\"\n",
    "        pickle.dump(results, open(output_path+\"activation_clusters/activation_clusters_km_{}_timestep_{}_{}_d{}.pkl\".format(n, timestep, idx, datasets[0].ID), \"wb\"))"
   ]
  },
  {
   "cell_type": "code",
   "execution_count": null,
   "metadata": {},
   "outputs": [],
   "source": []
  },
  {
   "cell_type": "code",
   "execution_count": null,
   "metadata": {},
   "outputs": [],
   "source": []
  }
 ],
 "metadata": {
  "kernelspec": {
   "display_name": "Python 3",
   "language": "python",
   "name": "python3"
  },
  "language_info": {
   "codemirror_mode": {
    "name": "ipython",
    "version": 3
   },
   "file_extension": ".py",
   "mimetype": "text/x-python",
   "name": "python",
   "nbconvert_exporter": "python",
   "pygments_lexer": "ipython3",
   "version": "3.6.9"
  }
 },
 "nbformat": 4,
 "nbformat_minor": 4
}
